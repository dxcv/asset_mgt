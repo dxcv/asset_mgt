{
 "cells": [
  {
   "cell_type": "code",
   "execution_count": 1,
   "metadata": {},
   "outputs": [],
   "source": [
    "import pandas as pd\n",
    "import seaborn as sns\n",
    "%matplotlib inline"
   ]
  },
  {
   "cell_type": "code",
   "execution_count": 2,
   "metadata": {},
   "outputs": [],
   "source": [
    "data = pd.read_excel('data.xlsx')"
   ]
  },
  {
   "cell_type": "code",
   "execution_count": 3,
   "metadata": {},
   "outputs": [
    {
     "data": {
      "text/html": [
       "<div>\n",
       "<style scoped>\n",
       "    .dataframe tbody tr th:only-of-type {\n",
       "        vertical-align: middle;\n",
       "    }\n",
       "\n",
       "    .dataframe tbody tr th {\n",
       "        vertical-align: top;\n",
       "    }\n",
       "\n",
       "    .dataframe thead th {\n",
       "        text-align: right;\n",
       "    }\n",
       "</style>\n",
       "<table border=\"1\" class=\"dataframe\">\n",
       "  <thead>\n",
       "    <tr style=\"text-align: right;\">\n",
       "      <th></th>\n",
       "      <th>881001.WI</th>\n",
       "      <th>513500.SH</th>\n",
       "      <th>159920.SZ</th>\n",
       "      <th>518880.SH</th>\n",
       "      <th>H11025.CSI</th>\n",
       "    </tr>\n",
       "  </thead>\n",
       "  <tbody>\n",
       "    <tr>\n",
       "      <th>2019-04-12</th>\n",
       "      <td>4381.4391</td>\n",
       "      <td>2907.41</td>\n",
       "      <td>29909.76</td>\n",
       "      <td>11124.5281</td>\n",
       "      <td>1522.3401</td>\n",
       "    </tr>\n",
       "    <tr>\n",
       "      <th>2019-04-15</th>\n",
       "      <td>4354.3076</td>\n",
       "      <td>2905.58</td>\n",
       "      <td>29810.72</td>\n",
       "      <td>11065.4897</td>\n",
       "      <td>1522.6536</td>\n",
       "    </tr>\n",
       "    <tr>\n",
       "      <th>2019-04-16</th>\n",
       "      <td>4457.8845</td>\n",
       "      <td>2907.06</td>\n",
       "      <td>30129.87</td>\n",
       "      <td>11259.2923</td>\n",
       "      <td>1522.7617</td>\n",
       "    </tr>\n",
       "    <tr>\n",
       "      <th>2019-04-17</th>\n",
       "      <td>4476.3576</td>\n",
       "      <td>2900.45</td>\n",
       "      <td>30124.68</td>\n",
       "      <td>11197.1700</td>\n",
       "      <td>1522.8707</td>\n",
       "    </tr>\n",
       "    <tr>\n",
       "      <th>2019-04-18</th>\n",
       "      <td>4454.9795</td>\n",
       "      <td>2905.03</td>\n",
       "      <td>29963.26</td>\n",
       "      <td>11086.2570</td>\n",
       "      <td>1522.8707</td>\n",
       "    </tr>\n",
       "  </tbody>\n",
       "</table>\n",
       "</div>"
      ],
      "text/plain": [
       "            881001.WI  513500.SH  159920.SZ   518880.SH  H11025.CSI\n",
       "2019-04-12  4381.4391    2907.41   29909.76  11124.5281   1522.3401\n",
       "2019-04-15  4354.3076    2905.58   29810.72  11065.4897   1522.6536\n",
       "2019-04-16  4457.8845    2907.06   30129.87  11259.2923   1522.7617\n",
       "2019-04-17  4476.3576    2900.45   30124.68  11197.1700   1522.8707\n",
       "2019-04-18  4454.9795    2905.03   29963.26  11086.2570   1522.8707"
      ]
     },
     "execution_count": 3,
     "metadata": {},
     "output_type": "execute_result"
    }
   ],
   "source": [
    "data.tail()"
   ]
  },
  {
   "cell_type": "code",
   "execution_count": 4,
   "metadata": {},
   "outputs": [],
   "source": [
    "data_pct = data.pct_change().dropna()"
   ]
  },
  {
   "cell_type": "code",
   "execution_count": 5,
   "metadata": {},
   "outputs": [
    {
     "data": {
      "text/html": [
       "<div>\n",
       "<style scoped>\n",
       "    .dataframe tbody tr th:only-of-type {\n",
       "        vertical-align: middle;\n",
       "    }\n",
       "\n",
       "    .dataframe tbody tr th {\n",
       "        vertical-align: top;\n",
       "    }\n",
       "\n",
       "    .dataframe thead th {\n",
       "        text-align: right;\n",
       "    }\n",
       "</style>\n",
       "<table border=\"1\" class=\"dataframe\">\n",
       "  <thead>\n",
       "    <tr style=\"text-align: right;\">\n",
       "      <th></th>\n",
       "      <th>881001.WI</th>\n",
       "      <th>513500.SH</th>\n",
       "      <th>159920.SZ</th>\n",
       "      <th>518880.SH</th>\n",
       "      <th>H11025.CSI</th>\n",
       "    </tr>\n",
       "  </thead>\n",
       "  <tbody>\n",
       "    <tr>\n",
       "      <th>2005-01-05</th>\n",
       "      <td>0.013144</td>\n",
       "      <td>-0.003628</td>\n",
       "      <td>-0.020044</td>\n",
       "      <td>0.012885</td>\n",
       "      <td>0.000091</td>\n",
       "    </tr>\n",
       "    <tr>\n",
       "      <th>2005-01-06</th>\n",
       "      <td>-0.009197</td>\n",
       "      <td>0.003506</td>\n",
       "      <td>-0.003801</td>\n",
       "      <td>-0.065266</td>\n",
       "      <td>0.000092</td>\n",
       "    </tr>\n",
       "    <tr>\n",
       "      <th>2005-01-07</th>\n",
       "      <td>0.002397</td>\n",
       "      <td>-0.001431</td>\n",
       "      <td>-0.010004</td>\n",
       "      <td>-0.003254</td>\n",
       "      <td>0.000084</td>\n",
       "    </tr>\n",
       "    <tr>\n",
       "      <th>2005-01-10</th>\n",
       "      <td>0.009301</td>\n",
       "      <td>0.003423</td>\n",
       "      <td>-0.003202</td>\n",
       "      <td>0.013951</td>\n",
       "      <td>0.000233</td>\n",
       "    </tr>\n",
       "    <tr>\n",
       "      <th>2005-01-11</th>\n",
       "      <td>0.003220</td>\n",
       "      <td>-0.006100</td>\n",
       "      <td>-0.001636</td>\n",
       "      <td>-0.001171</td>\n",
       "      <td>0.000082</td>\n",
       "    </tr>\n",
       "  </tbody>\n",
       "</table>\n",
       "</div>"
      ],
      "text/plain": [
       "            881001.WI  513500.SH  159920.SZ  518880.SH  H11025.CSI\n",
       "2005-01-05   0.013144  -0.003628  -0.020044   0.012885    0.000091\n",
       "2005-01-06  -0.009197   0.003506  -0.003801  -0.065266    0.000092\n",
       "2005-01-07   0.002397  -0.001431  -0.010004  -0.003254    0.000084\n",
       "2005-01-10   0.009301   0.003423  -0.003202   0.013951    0.000233\n",
       "2005-01-11   0.003220  -0.006100  -0.001636  -0.001171    0.000082"
      ]
     },
     "execution_count": 5,
     "metadata": {},
     "output_type": "execute_result"
    }
   ],
   "source": [
    "data_pct.head()"
   ]
  },
  {
   "cell_type": "code",
   "execution_count": 8,
   "metadata": {},
   "outputs": [],
   "source": [
    "data_roll = data_pct.rolling(window = 60)\n",
    "\n",
    "data_sigma = data_roll.std()\n",
    "\n",
    "data_sigma = data_sigma.dropna()\n",
    "\n",
    "data_sigma.head()\n",
    "\n",
    "trade_calendar = data_sigma.index.tolist()\n",
    "\n",
    "rebalance_freq = 20\n",
    "rebalance_flag = 20\n",
    "\n",
    "ret_list = []\n",
    "for ind,trade_date in enumerate(trade_calendar):\n",
    "    if rebalance_flag == rebalance_freq:\n",
    "        # calculate the return\n",
    "        sigma = data_sigma.loc[trade_date]\n",
    "        sigma.sort_values(ascending = True)\n",
    "        long_asset = sigma.index.tolist()[1]\n",
    "        short_asset = sigma.index.tolist()[-1]\n",
    "        data_related = data.iloc[ind:ind + rebalance_freq]\n",
    "        long_related = data_related[long_asset]\n",
    "        short_related = data_related[short_asset]\n",
    "        long_ret = (long_related.iloc[-1] - long_related.iloc[0]) / long_related.iloc[0]\n",
    "        short_ret = ((short_related.iloc[-1] - short_related.iloc[0]) / short_related.iloc[0])\n",
    "        diff_ret = long_ret - short_ret\n",
    "        ret_list.append([trade_date,diff_ret])\n",
    "        rebalance_flag = 0\n",
    "    rebalance_flag += 1\n",
    "    \n",
    "\n"
   ]
  },
  {
   "cell_type": "code",
   "execution_count": 9,
   "metadata": {},
   "outputs": [],
   "source": [
    "ret_df = pd.DataFrame(ret_list,columns = ['trade_date','ret']).set_index('trade_date')"
   ]
  },
  {
   "cell_type": "code",
   "execution_count": 10,
   "metadata": {},
   "outputs": [
    {
     "data": {
      "text/html": [
       "<div>\n",
       "<style scoped>\n",
       "    .dataframe tbody tr th:only-of-type {\n",
       "        vertical-align: middle;\n",
       "    }\n",
       "\n",
       "    .dataframe tbody tr th {\n",
       "        vertical-align: top;\n",
       "    }\n",
       "\n",
       "    .dataframe thead th {\n",
       "        text-align: right;\n",
       "    }\n",
       "</style>\n",
       "<table border=\"1\" class=\"dataframe\">\n",
       "  <thead>\n",
       "    <tr style=\"text-align: right;\">\n",
       "      <th></th>\n",
       "      <th>ret</th>\n",
       "    </tr>\n",
       "    <tr>\n",
       "      <th>trade_date</th>\n",
       "      <th></th>\n",
       "    </tr>\n",
       "  </thead>\n",
       "  <tbody>\n",
       "    <tr>\n",
       "      <th>2005-04-07</th>\n",
       "      <td>-0.008060</td>\n",
       "    </tr>\n",
       "    <tr>\n",
       "      <th>2005-05-12</th>\n",
       "      <td>0.011602</td>\n",
       "    </tr>\n",
       "    <tr>\n",
       "      <th>2005-06-09</th>\n",
       "      <td>-0.023242</td>\n",
       "    </tr>\n",
       "    <tr>\n",
       "      <th>2005-07-07</th>\n",
       "      <td>-0.019221</td>\n",
       "    </tr>\n",
       "    <tr>\n",
       "      <th>2005-08-04</th>\n",
       "      <td>0.028852</td>\n",
       "    </tr>\n",
       "  </tbody>\n",
       "</table>\n",
       "</div>"
      ],
      "text/plain": [
       "                 ret\n",
       "trade_date          \n",
       "2005-04-07 -0.008060\n",
       "2005-05-12  0.011602\n",
       "2005-06-09 -0.023242\n",
       "2005-07-07 -0.019221\n",
       "2005-08-04  0.028852"
      ]
     },
     "execution_count": 10,
     "metadata": {},
     "output_type": "execute_result"
    }
   ],
   "source": [
    "ret_df.head()"
   ]
  },
  {
   "cell_type": "code",
   "execution_count": null,
   "metadata": {},
   "outputs": [],
   "source": [
    "ret_df.head()"
   ]
  },
  {
   "cell_type": "code",
   "execution_count": 11,
   "metadata": {
    "scrolled": true
   },
   "outputs": [
    {
     "data": {
      "text/plain": [
       "<matplotlib.axes._subplots.AxesSubplot at 0x28d613ea3c8>"
      ]
     },
     "execution_count": 11,
     "metadata": {},
     "output_type": "execute_result"
    },
    {
     "data": {
      "image/png": "[encoded data removed]",
      "text/plain": [
       "<Figure size 864x576 with 1 Axes>"
      ]
     },
     "metadata": {
      "needs_background": "light"
     },
     "output_type": "display_data"
    }
   ],
   "source": [
    "ret_df['ret'].hist(bins = 100,figsize = (12,8))"
   ]
  },
  {
   "cell_type": "code",
   "execution_count": 12,
   "metadata": {},
   "outputs": [
    {
     "data": {
      "image/png": "[encoded data removed]",
      "text/plain": [
       "<Figure size 864x576 with 1 Axes>"
      ]
     },
     "metadata": {
      "needs_background": "light"
     },
     "output_type": "display_data"
    }
   ],
   "source": [
    "ax = ret_df.plot(figsize = (12,8))"
   ]
  },
  {
   "cell_type": "code",
   "execution_count": 14,
   "metadata": {},
   "outputs": [
    {
     "data": {
      "text/plain": [
       "Ttest_1sampResult(statistic=array([1.36449973]), pvalue=array([0.17421383]))"
      ]
     },
     "execution_count": 14,
     "metadata": {},
     "output_type": "execute_result"
    }
   ],
   "source": [
    "from scipy.stats import ttest_1samp\n",
    "result = ttest_1samp(ret_df,popmean = 0)\n",
    "result"
   ]
  },
  {
   "cell_type": "markdown",
   "metadata": {},
   "source": [
    "低波动率能够带来超额收益。"
   ]
  },
  {
   "cell_type": "code",
   "execution_count": 71,
   "metadata": {},
   "outputs": [],
   "source": [
    "data_sigma.to_excel('60sigma.xlsx')"
   ]
  }
 ],
 "metadata": {
  "kernelspec": {
   "display_name": "Python 3",
   "language": "python",
   "name": "python3"
  },
  "language_info": {
   "codemirror_mode": {
    "name": "ipython",
    "version": 3
   },
   "file_extension": ".py",
   "mimetype": "text/x-python",
   "name": "python",
   "nbconvert_exporter": "python",
   "pygments_lexer": "ipython3",
   "version": "3.7.1"
  }
 },
 "nbformat": 4,
 "nbformat_minor": 2
}
